{
 "cells": [
  {
   "cell_type": "markdown",
   "metadata": {},
   "source": [
    "## Hyperparameter Tuning"
   ]
  },
  {
   "cell_type": "markdown",
   "metadata": {},
   "source": [
    "The hyperparameters in deep learning to tune are \n",
    "- the number of neurons\n",
    "- activation function\n",
    "- optimiser\n",
    "- learning rate\n",
    "- batch size\n",
    "- epochs \n",
    "- number of layers.\n",
    "\n",
    "\n",
    "Reference: \n",
    "- https://www.analyticsvidhya.com/blog/2021/05/tuning-the-hyperparameters-and-layers-of-neural-network-deep-learning/"
   ]
  },
  {
   "cell_type": "code",
   "execution_count": 2,
   "metadata": {},
   "outputs": [],
   "source": [
    "from typing import List, Optional, Callable\n",
    "import os\n",
    "import sys\n",
    "from tqdm.auto import tqdm\n",
    "import logging\n",
    "import matplotlib.pyplot as plt\n",
    "from sklearn.metrics import classification_report, confusion_matrix\n",
    "import seaborn as sns\n",
    "import numpy as np\n",
    "\n",
    "import torch\n",
    "import torch.optim as optim\n",
    "import torch.nn as nn\n",
    "from torchvision import transforms\n",
    "\n",
    "from ray import tune\n",
    "from ray.tune.search.optuna import OptunaSearch\n",
    "from ray.tune.schedulers import ASHAScheduler\n",
    "from ray.tune import CLIReporter\n",
    "\n",
    "# determine the project root - required to import DataHandler from utils folder\n",
    "project_root = os.path.abspath(os.path.join(os.getcwd(), '..'))\n",
    "if project_root not in sys.path:\n",
    "    sys.path.insert(0, project_root)\n",
    "\n",
    "# configuring log file\n",
    "log_dir = os.path.join(project_root, \"logs\")\n",
    "os.makedirs(log_dir, exist_ok=True)\n",
    "log_filename = os.path.join(log_dir, \"dinov2_training_log.txt\") #NOTE: specify based on model training\n",
    "\n",
    "logging.basicConfig(\n",
    "    filename=log_filename,\n",
    "    filemode=\"w\",  #NOTE: previous logs would be overwritten\n",
    "    format=\"%(asctime)s %(levelname)s: %(message)s\",\n",
    "    level=logging.INFO\n",
    ")\n",
    "\n",
    "MODEL_SAVE_DIR = os.path.join(project_root, \"models\", \"dinov2\")\n",
    "os.makedirs(MODEL_SAVE_DIR, exist_ok=True) \n",
    "\n",
    "RESULTS_SAVE_DIR = os.path.join(project_root, \"results\", \"dinov2\")\n",
    "os.makedirs(RESULTS_SAVE_DIR, exist_ok=True) \n",
    "\n",
    "from utils.DataHandler import download_dataset, create_full_data_loaders, create_tuning_data_loaders"
   ]
  },
  {
   "cell_type": "code",
   "execution_count": 3,
   "metadata": {},
   "outputs": [
    {
     "name": "stdout",
     "output_type": "stream",
     "text": [
      "Using device: MPS (Apple Silicon GPU)\n"
     ]
    }
   ],
   "source": [
    "def get_device():\n",
    "    if torch.cuda.is_available():\n",
    "        print(\"Using device: CUDA (GPU)\")\n",
    "        return torch.device(\"cuda\")\n",
    "    elif torch.backends.mps.is_available():\n",
    "        print(\"Using device: MPS (Apple Silicon GPU)\")\n",
    "        os.environ['PYTORCH_ENABLE_MPS_FALLBACK'] = '1'\n",
    "        return torch.device(\"mps\")\n",
    "    else:\n",
    "        print(\"Using device: CPU\")\n",
    "        return torch.device(\"cpu\")\n",
    "\n",
    "device = get_device()"
   ]
  },
  {
   "cell_type": "markdown",
   "metadata": {},
   "source": [
    "## Data Download\n",
    "This is adapted from SeparatingData.ipynb\n",
    "Download the processed dataset from Google Drive if yet to."
   ]
  },
  {
   "cell_type": "code",
   "execution_count": 4,
   "metadata": {},
   "outputs": [
    {
     "name": "stdout",
     "output_type": "stream",
     "text": [
      "Dataset already exists at ../input/final_split_training_augmented\n"
     ]
    }
   ],
   "source": [
    "DATA_DIR = \"../input/final_split_training_augmented\"\n",
    "ZIP_URL = \"https://drive.google.com/uc?id=11t8m703wcNss3w5diJSUGBA_vXnCKChr\"\n",
    "ZIP_FILENAME = \"../input/final_split.zip\"\n",
    "ROOT_DIR = \"../input\"\n",
    "\n",
    "download_dataset(DATA_DIR, ZIP_URL, ZIP_FILENAME, ROOT_DIR)"
   ]
  },
  {
   "cell_type": "markdown",
   "metadata": {},
   "source": [
    "## Subset Data Load\n",
    "For faster hyperparameter tuning, use a subset of the dataset to find the most optimised set of hyperparameters.\n",
    "Loads dataset from processed dataset which should have been split to train, test, eval."
   ]
  },
  {
   "cell_type": "code",
   "execution_count": 5,
   "metadata": {},
   "outputs": [
    {
     "name": "stdout",
     "output_type": "stream",
     "text": [
      "Using pre-split datasets: train 8025, val 579, test 572\n",
      "Created tuning data loaders with subset fraction: 0.5\n",
      "Created subset datasets for hyperparameter tuning: train 4012, val 289, test 572\n",
      "Class Distribution for Subset Training:\n",
      "  angry     : 983\n",
      "  happy     : 1039\n",
      "  relaxed   : 1024\n",
      "  sad       : 966\n",
      "Class Distribution for Subset Validation:\n",
      "  angry     : 71\n",
      "  happy     : 75\n",
      "  relaxed   : 74\n",
      "  sad       : 69\n"
     ]
    }
   ],
   "source": [
    "SPLIT_DATASET = os.path.abspath(\"../input/final_split_training_augmented\")\n",
    "BATCH_SIZE = 64\n",
    "\n",
    "# Define data transformation \n",
    "# in this notebook, we are doing it for EfficientNetB5, so we resize to ~456x456\n",
    "transform = transforms.Compose([\n",
    "    transforms.Resize((224, 224)),\n",
    "    transforms.RandomHorizontalFlip(p=0.5),\n",
    "    transforms.ColorJitter(brightness=0.2, contrast=0.2, saturation=0.2),\n",
    "    transforms.ToTensor(),\n",
    "    transforms.Normalize(\n",
    "            mean=[0.485, 0.456, 0.406],\n",
    "            std=[0.229, 0.224, 0.225]\n",
    "        )\n",
    "])\n",
    "\n",
    "TRAIN_LOADER, VAL_LOADER, TEST_LOADER = create_tuning_data_loaders(\n",
    "    dataset_root=SPLIT_DATASET,\n",
    "    transform=transform,\n",
    "    batch_size=BATCH_SIZE,\n",
    "    subset_fraction=0.5,\n",
    "    random_seed=42\n",
    ")"
   ]
  },
  {
   "cell_type": "markdown",
   "metadata": {},
   "source": [
    "## Full Data Load\n",
    "When doing the entire training for the entire dataset (full dataset not used in hyperparameter tuning)"
   ]
  },
  {
   "cell_type": "code",
   "execution_count": 6,
   "metadata": {},
   "outputs": [
    {
     "name": "stdout",
     "output_type": "stream",
     "text": [
      "Using pre-split datasets: train 8025, val 579, test 572\n"
     ]
    }
   ],
   "source": [
    "FULL_TRAIN_LOADER, FULL_VAL_LOADER, FULL_TEST_LOADER = create_full_data_loaders(\n",
    "    dataset_root=SPLIT_DATASET,\n",
    "    transform=transform,\n",
    "    batch_size=BATCH_SIZE,\n",
    ")"
   ]
  },
  {
   "cell_type": "markdown",
   "metadata": {},
   "source": [
    "## Model Specifications"
   ]
  },
  {
   "cell_type": "markdown",
   "metadata": {},
   "source": [
    "DINOv2 Transfer Learning with Torch Hub:\n",
    "- https://debuggercafe.com/dinov2-for-image-classification-fine-tuning-vs-transfer-learning/\n",
    "- https://github.com/facebookresearch/dinov2/tree/e1277af2ba9496fbadf7aec6eba56e8d882d1e35"
   ]
  },
  {
   "cell_type": "code",
   "execution_count": 7,
   "metadata": {},
   "outputs": [],
   "source": [
    "class BaseDINOv2(nn.Module):\n",
    "    \"\"\"DINOv2 model for transfer learning on the dog emotion dataset\n",
    "    with a configurable classification head for hyperparameter tuning, \n",
    "    i.e parameters you wish to tune need to be specified\n",
    "\n",
    "    This model uses a pretrained DINOv2 backbone and replaces its\n",
    "    classifier with a multi-layer fully connected network whose architecture\n",
    "    can be tuned (number of layers, neurons, and activation function)\n",
    "    \"\"\"\n",
    "    \n",
    "    def __init__(self,\n",
    "                 model_variant: str = 'dinov2_vits14',\n",
    "                 num_classes: int = 4,\n",
    "                 dropout: float = 0.2,\n",
    "                 freeze_backbone: bool = False,\n",
    "                 hidden_sizes: Optional[List[int]] = None,\n",
    "                 activation: str = 'relu') -> None:\n",
    "        \"\"\"\n",
    "        Args:\n",
    "            num_classes (int): Number of output classes.\n",
    "            dropout (float): Dropout rate to apply in the classifier.\n",
    "            freeze_backbone (bool): If True, freeze the backbone layers.\n",
    "            hidden_sizes (Optional[List[int]]): List of sizes for hidden layers in the classifier.\n",
    "                If None, a single linear layer is used.\n",
    "            activation (str): Activation function to use in the classifier ('relu', 'tanh', etc.).\n",
    "        \"\"\"\n",
    "        super(BaseDINOv2, self).__init__()\n",
    "\n",
    "        # load DINOv2 backbone from Torch Hub\n",
    "        self.backbone = torch.hub.load('facebookresearch/dinov2', model_variant)\n",
    "        in_features = self.backbone.embed_dim  # e.g., 768 for vitb14, 384 for vits14\n",
    "        \n",
    "        if freeze_backbone:\n",
    "            for param in self.backbone.parameters():\n",
    "                param.requires_grad = False\n",
    "        \n",
    "        # Build the classifier based on the provided hidden_sizes\n",
    "        layers = []\n",
    "        input_dim = in_features\n",
    "        if hidden_sizes:\n",
    "            for hidden_dim in hidden_sizes:\n",
    "                layers.append(nn.Dropout(p=dropout))\n",
    "                layers.append(nn.Linear(input_dim, hidden_dim))\n",
    "                layers.append(self._get_activation(activation))\n",
    "                input_dim = hidden_dim\n",
    "            # final classification layer.\n",
    "            layers.append(nn.Dropout(p=dropout))\n",
    "            layers.append(nn.Linear(input_dim, num_classes))\n",
    "        else:\n",
    "            # single linear layer if no hidden layers specified\n",
    "            layers.append(nn.Dropout(p=dropout))\n",
    "            layers.append(nn.Linear(input_dim, num_classes))\n",
    "        \n",
    "        self.classifier = nn.Sequential(*layers)\n",
    "    \n",
    "    def _get_activation(self, activation: str) -> Callable:\n",
    "        \"\"\"Returns an activation function based on the given string.\n",
    "\n",
    "        Args:\n",
    "            activation (str): Name of the activation function.\n",
    "\n",
    "        Returns:\n",
    "            Callable: Activation function module.\n",
    "        \"\"\"\n",
    "        if activation.lower() == 'relu':\n",
    "            return nn.ReLU()\n",
    "        elif activation.lower() == 'leakyrelu':\n",
    "            return nn.LeakyReLU()\n",
    "        elif activation.lower() == 'gelu':\n",
    "            return nn.GELU()\n",
    "        elif activation.lower() == 'tanh':\n",
    "            return nn.Tanh()\n",
    "        elif activation.lower() == 'sigmoid':\n",
    "            return nn.Sigmoid()\n",
    "        else:\n",
    "            raise ValueError(f\"Unsupported activation function: {activation}\")\n",
    "    \n",
    "    def forward(self, x: torch.Tensor) -> torch.Tensor:\n",
    "        features = self.backbone(x)\n",
    "        return self.classifier(features)"
   ]
  },
  {
   "cell_type": "code",
   "execution_count": 8,
   "metadata": {},
   "outputs": [
    {
     "name": "stdout",
     "output_type": "stream",
     "text": [
      "Using device: mps\n"
     ]
    },
    {
     "name": "stderr",
     "output_type": "stream",
     "text": [
      "Using cache found in /Users/huiningonn/.cache/torch/hub/facebookresearch_dinov2_main\n",
      "/Users/huiningonn/.cache/torch/hub/facebookresearch_dinov2_main/dinov2/layers/swiglu_ffn.py:51: UserWarning: xFormers is not available (SwiGLU)\n",
      "  warnings.warn(\"xFormers is not available (SwiGLU)\")\n",
      "/Users/huiningonn/.cache/torch/hub/facebookresearch_dinov2_main/dinov2/layers/attention.py:33: UserWarning: xFormers is not available (Attention)\n",
      "  warnings.warn(\"xFormers is not available (Attention)\")\n",
      "/Users/huiningonn/.cache/torch/hub/facebookresearch_dinov2_main/dinov2/layers/block.py:40: UserWarning: xFormers is not available (Block)\n",
      "  warnings.warn(\"xFormers is not available (Block)\")\n"
     ]
    },
    {
     "name": "stdout",
     "output_type": "stream",
     "text": [
      "Model instantiated: BaseDINOv2\n",
      "BaseDINOv2(\n",
      "  (backbone): DinoVisionTransformer(\n",
      "    (patch_embed): PatchEmbed(\n",
      "      (proj): Conv2d(3, 384, kernel_size=(14, 14), stride=(14, 14))\n",
      "      (norm): Identity()\n",
      "    )\n",
      "    (blocks): ModuleList(\n",
      "      (0-11): 12 x NestedTensorBlock(\n",
      "        (norm1): LayerNorm((384,), eps=1e-06, elementwise_affine=True)\n",
      "        (attn): MemEffAttention(\n",
      "          (qkv): Linear(in_features=384, out_features=1152, bias=True)\n",
      "          (attn_drop): Dropout(p=0.0, inplace=False)\n",
      "          (proj): Linear(in_features=384, out_features=384, bias=True)\n",
      "          (proj_drop): Dropout(p=0.0, inplace=False)\n",
      "        )\n",
      "        (ls1): LayerScale()\n",
      "        (drop_path1): Identity()\n",
      "        (norm2): LayerNorm((384,), eps=1e-06, elementwise_affine=True)\n",
      "        (mlp): Mlp(\n",
      "          (fc1): Linear(in_features=384, out_features=1536, bias=True)\n",
      "          (act): GELU(approximate='none')\n",
      "          (fc2): Linear(in_features=1536, out_features=384, bias=True)\n",
      "          (drop): Dropout(p=0.0, inplace=False)\n",
      "        )\n",
      "        (ls2): LayerScale()\n",
      "        (drop_path2): Identity()\n",
      "      )\n",
      "    )\n",
      "    (norm): LayerNorm((384,), eps=1e-06, elementwise_affine=True)\n",
      "    (head): Identity()\n",
      "  )\n",
      "  (classifier): Sequential(\n",
      "    (0): Dropout(p=0.3, inplace=False)\n",
      "    (1): Linear(in_features=384, out_features=256, bias=True)\n",
      "    (2): ReLU()\n",
      "    (3): Dropout(p=0.3, inplace=False)\n",
      "    (4): Linear(in_features=256, out_features=128, bias=True)\n",
      "    (5): ReLU()\n",
      "    (6): Dropout(p=0.3, inplace=False)\n",
      "    (7): Linear(in_features=128, out_features=4, bias=True)\n",
      "  )\n",
      ")\n"
     ]
    }
   ],
   "source": [
    "print(f\"Using device: {device}\")\n",
    "model = BaseDINOv2(num_classes=4, dropout=0.3, freeze_backbone=True, hidden_sizes=[256, 128], activation='relu').to(device)\n",
    "print(\"Model instantiated:\", model.__class__.__name__)\n",
    "print(model)"
   ]
  },
  {
   "cell_type": "markdown",
   "metadata": {},
   "source": [
    "## Hyperparameter Tuning\n",
    "This is the part where you write the training function and load it to the ray tune scheduler.\n",
    "For this execution, ASHAscheduler is used with Optuna for bayesian optimisation techniques - which should be using the default Tree-Structured Parzen Estimator.\n",
    "If many parameters, this is would be more efficient than grid search and random search.\n",
    "\n",
    "References:\n",
    "- https://docs.ray.io/en/latest/tune/examples/includes/async_hyperband_example.html\n",
    "- https://docs.ray.io/en/latest/tune/examples/tune-pytorch-cifar.html \n",
    "- https://docs.ray.io/en/latest/tune/examples/includes/mnist_pytorch.html\n",
    "- https://docs.ray.io/en/latest/tune/api/suggestion.html"
   ]
  },
  {
   "cell_type": "code",
   "execution_count": 10,
   "metadata": {},
   "outputs": [],
   "source": [
    "CHECKPOINT_DIR = os.path.abspath(\"../models/hyptune\")\n",
    "def train_model( config, device=device, checkpoint_dir=CHECKPOINT_DIR, data_dir=None):\n",
    "    \"\"\"Training function for Ray Tune hyperparameter tuning.\n",
    "\n",
    "    This function instantiates the model with hyperparameters\n",
    "    specified in the config dictionary, trains the model on the global TRAIN_LOADER,\n",
    "    evaluates on VAL_LOADER, and reports the validation loss to Ray Tune.\n",
    "\n",
    "    Args:\n",
    "        config (dict): Hyperparameter configuration. Expected keys include:\n",
    "            - lr (float): Learning rate.\n",
    "            - weight_decay (float): Weight decay for the optimizer.\n",
    "            - dropout (float): Dropout rate for the classifier.\n",
    "            - hidden_sizes (list or None): List of hidden layer sizes in the classifier.\n",
    "            - activation (str): Activation function to use ('relu', 'tanh', etc.).\n",
    "            - freeze_backbone (bool): Whether to freeze the model backbone.\n",
    "            - num_epochs (int): Number of training epochs.\n",
    "            - optimiser (callable, optional): Optimiser class. Default is optim.Adam.\n",
    "            - criterion (callable, optional): Loss function instance. Default is nn.CrossEntropyLoss().\n",
    "        checkpoint_dir (str, optional): Directory for checkpointing (if applicable).\n",
    "        data_dir (str, optional): Not used here; included for compatibility.\n",
    "    \"\"\"\n",
    "    if checkpoint_dir:\n",
    "        os.makedirs(checkpoint_dir, exist_ok=True)\n",
    "        print(f\"Checkpoint Folder exists\")\n",
    "    \n",
    "    # instantiate model with hyperparameters from config\n",
    "    model = BaseDINOv2(\n",
    "        num_classes=4,\n",
    "        dropout=config.get(\"dropout\", 0.3),\n",
    "        freeze_backbone=config.get(\"freeze_backbone\", True),\n",
    "        hidden_sizes=config.get(\"hidden_sizes\", None),\n",
    "        activation=config.get(\"activation\", \"relu\")\n",
    "    ).to(device)\n",
    "\n",
    "    optimiser = config[\"optimiser\"](model.parameters(), config[\"lr\"], config[\"weight_decay\"])\n",
    "    criterion = config[\"criterion\"]()\n",
    "\n",
    "    num_epochs = config.get(\"num_epochs\", 2)  # a low number for quick tuning, but update accordingly\n",
    "    \n",
    "    # training loop\n",
    "    for epoch in range(num_epochs):\n",
    "        model.train()\n",
    "        running_loss = 0.0\n",
    "        for inputs, targets in tqdm(TRAIN_LOADER, position=0, leave=True, desc=f\"Epoch {epoch+1}/{num_epochs}\"):\n",
    "            inputs, targets = inputs.to(device), targets.to(device)\n",
    "            optimiser.zero_grad()\n",
    "            outputs = model(inputs)\n",
    "            loss = criterion(outputs, targets)\n",
    "            loss.backward()\n",
    "            optimiser.step()\n",
    "            running_loss += loss.item() * inputs.size(0)\n",
    "        \n",
    "        epoch_loss = running_loss / len(TRAIN_LOADER.dataset)\n",
    "        print(f\"Epoch {epoch + 1}/{num_epochs}, Training Loss: {epoch_loss:.4f}\")\n",
    "        \n",
    "        # optionally, can checkpoint the model\n",
    "        if checkpoint_dir:\n",
    "            path = os.path.join(checkpoint_dir, f\"checkpoint_{epoch}.pt\")\n",
    "            torch.save(model.state_dict(), path)\n",
    "    \n",
    "    # evaluation on the subset validation set\n",
    "    model.eval()\n",
    "    total_loss = 0.0\n",
    "    with torch.no_grad():\n",
    "        for inputs, targets in VAL_LOADER:\n",
    "            inputs, targets = inputs.to(device), targets.to(device)\n",
    "            outputs = model(inputs)\n",
    "            loss = criterion(outputs, targets)\n",
    "            total_loss += loss.item() * inputs.size(0)\n",
    "    \n",
    "    avg_val_loss = total_loss / len(VAL_LOADER.dataset)\n",
    "    print(f\"Validation Loss: {avg_val_loss:.4f}\")\n",
    "    \n",
    "    # Report the metric to Ray Tune\n",
    "    tune.report({\"loss\": avg_val_loss})"
   ]
  },
  {
   "cell_type": "code",
   "execution_count": 11,
   "metadata": {},
   "outputs": [
    {
     "data": {
      "text/html": [
       "<div class=\"tuneStatus\">\n",
       "  <div style=\"display: flex;flex-direction: row\">\n",
       "    <div style=\"display: flex;flex-direction: column;\">\n",
       "      <h3>Tune Status</h3>\n",
       "      <table>\n",
       "<tbody>\n",
       "<tr><td>Current time:</td><td>2025-04-16 01:21:58</td></tr>\n",
       "<tr><td>Running for: </td><td>00:00:33.99        </td></tr>\n",
       "<tr><td>Memory:      </td><td>13.9/18.0 GiB      </td></tr>\n",
       "</tbody>\n",
       "</table>\n",
       "    </div>\n",
       "    <div class=\"vDivider\"></div>\n",
       "    <div class=\"systemInfo\">\n",
       "      <h3>System Info</h3>\n",
       "      Using AsyncHyperBand: num_stopped=0<br>Bracket: Iter 90.000: None | Iter 30.000: None | Iter 10.000: None<br>Logical resource usage: 2.0/11 CPUs, 0/0 GPUs\n",
       "    </div>\n",
       "    \n",
       "  </div>\n",
       "  <div class=\"hDivider\"></div>\n",
       "  <div class=\"trialStatus\">\n",
       "    <h3>Trial Status</h3>\n",
       "    <table>\n",
       "<thead>\n",
       "<tr><th>Trial name  </th><th>status    </th><th>loc            </th><th>activation  </th><th>criterion           </th><th style=\"text-align: right;\">  dropout</th><th>hidden_sizes  </th><th style=\"text-align: right;\">         lr</th><th>optimiser           </th><th style=\"text-align: right;\">  weight_decay</th><th style=\"text-align: right;\">  iter</th><th style=\"text-align: right;\">  total time (s)</th><th style=\"text-align: right;\">    loss</th></tr>\n",
       "</thead>\n",
       "<tbody>\n",
       "<tr><td>t_d6a5f33a  </td><td>TERMINATED</td><td>127.0.0.1:54408</td><td>tanh        </td><td>&lt;function &lt;lamb_9c60</td><td style=\"text-align: right;\"> 0.446399</td><td>[256, 128]    </td><td style=\"text-align: right;\">0.000561152</td><td>&lt;function &lt;lamb_9ab0</td><td style=\"text-align: right;\">   0.000796945</td><td style=\"text-align: right;\">     1</td><td style=\"text-align: right;\">         31.8765</td><td style=\"text-align: right;\">0.892305</td></tr>\n",
       "</tbody>\n",
       "</table>\n",
       "  </div>\n",
       "</div>\n",
       "<style>\n",
       ".tuneStatus {\n",
       "  color: var(--jp-ui-font-color1);\n",
       "}\n",
       ".tuneStatus .systemInfo {\n",
       "  display: flex;\n",
       "  flex-direction: column;\n",
       "}\n",
       ".tuneStatus td {\n",
       "  white-space: nowrap;\n",
       "}\n",
       ".tuneStatus .trialStatus {\n",
       "  display: flex;\n",
       "  flex-direction: column;\n",
       "}\n",
       ".tuneStatus h3 {\n",
       "  font-weight: bold;\n",
       "}\n",
       ".tuneStatus .hDivider {\n",
       "  border-bottom-width: var(--jp-border-width);\n",
       "  border-bottom-color: var(--jp-border-color0);\n",
       "  border-bottom-style: solid;\n",
       "}\n",
       ".tuneStatus .vDivider {\n",
       "  border-left-width: var(--jp-border-width);\n",
       "  border-left-color: var(--jp-border-color0);\n",
       "  border-left-style: solid;\n",
       "  margin: 0.5em 1em 0.5em 1em;\n",
       "}\n",
       "</style>\n"
      ],
      "text/plain": [
       "<IPython.core.display.HTML object>"
      ]
     },
     "metadata": {},
     "output_type": "display_data"
    },
    {
     "name": "stdout",
     "output_type": "stream",
     "text": [
      "\u001b[36m(train_model pid=54408)\u001b[0m Checkpoint Folder exists\n"
     ]
    },
    {
     "name": "stderr",
     "output_type": "stream",
     "text": [
      "\u001b[36m(train_model pid=54408)\u001b[0m Using cache found in /Users/huiningonn/.cache/torch/hub/facebookresearch_dinov2_main\n",
      "\u001b[36m(train_model pid=54408)\u001b[0m /Users/huiningonn/.cache/torch/hub/facebookresearch_dinov2_main/dinov2/layers/swiglu_ffn.py:51: UserWarning: xFormers is not available (SwiGLU)\n",
      "\u001b[36m(train_model pid=54408)\u001b[0m   warnings.warn(\"xFormers is not available (SwiGLU)\")\n",
      "\u001b[36m(train_model pid=54408)\u001b[0m /Users/huiningonn/.cache/torch/hub/facebookresearch_dinov2_main/dinov2/layers/attention.py:33: UserWarning: xFormers is not available (Attention)\n",
      "\u001b[36m(train_model pid=54408)\u001b[0m   warnings.warn(\"xFormers is not available (Attention)\")\n",
      "\u001b[36m(train_model pid=54408)\u001b[0m /Users/huiningonn/.cache/torch/hub/facebookresearch_dinov2_main/dinov2/layers/block.py:40: UserWarning: xFormers is not available (Block)\n",
      "\u001b[36m(train_model pid=54408)\u001b[0m   warnings.warn(\"xFormers is not available (Block)\")\n",
      "Epoch 1/1:   0%|          | 0/63 [00:00<?, ?it/s]\n",
      "Epoch 1/1:   2%|▏         | 1/63 [00:00<00:41,  1.51it/s]\n",
      "Epoch 1/1:   3%|▎         | 2/63 [00:01<00:33,  1.84it/s]\n",
      "Epoch 1/1:   5%|▍         | 3/63 [00:01<00:29,  2.01it/s]\n",
      "Epoch 1/1:   6%|▋         | 4/63 [00:02<00:28,  2.09it/s]\n",
      "Epoch 1/1:   8%|▊         | 5/63 [00:02<00:27,  2.13it/s]\n",
      "Epoch 1/1:  10%|▉         | 6/63 [00:02<00:26,  2.18it/s]\n",
      "Epoch 1/1:  11%|█         | 7/63 [00:03<00:25,  2.19it/s]\n",
      "Epoch 1/1:  13%|█▎        | 8/63 [00:03<00:24,  2.20it/s]\n",
      "Epoch 1/1:  14%|█▍        | 9/63 [00:04<00:24,  2.21it/s]\n",
      "Epoch 1/1:  16%|█▌        | 10/63 [00:04<00:23,  2.22it/s]\n",
      "Epoch 1/1:  17%|█▋        | 11/63 [00:05<00:23,  2.22it/s]\n",
      "Epoch 1/1:  19%|█▉        | 12/63 [00:05<00:22,  2.22it/s]\n",
      "Epoch 1/1:  21%|██        | 13/63 [00:06<00:22,  2.24it/s]\n",
      "Epoch 1/1:  22%|██▏       | 14/63 [00:06<00:21,  2.23it/s]\n",
      "Epoch 1/1:  24%|██▍       | 15/63 [00:06<00:21,  2.23it/s]\n",
      "Epoch 1/1:  25%|██▌       | 16/63 [00:07<00:21,  2.22it/s]\n",
      "Epoch 1/1:  27%|██▋       | 17/63 [00:07<00:20,  2.22it/s]\n",
      "Epoch 1/1:  29%|██▊       | 18/63 [00:08<00:20,  2.22it/s]\n",
      "Epoch 1/1:  30%|███       | 19/63 [00:08<00:19,  2.21it/s]\n",
      "Epoch 1/1:  32%|███▏      | 20/63 [00:09<00:19,  2.22it/s]\n",
      "Epoch 1/1:  33%|███▎      | 21/63 [00:09<00:19,  2.20it/s]\n",
      "Epoch 1/1:  35%|███▍      | 22/63 [00:10<00:18,  2.19it/s]\n",
      "Epoch 1/1:  37%|███▋      | 23/63 [00:10<00:18,  2.19it/s]\n",
      "Epoch 1/1:  38%|███▊      | 24/63 [00:11<00:17,  2.21it/s]\n",
      "Epoch 1/1:  40%|███▉      | 25/63 [00:11<00:17,  2.20it/s]\n",
      "Epoch 1/1:  41%|████▏     | 26/63 [00:11<00:16,  2.22it/s]\n",
      "Epoch 1/1:  43%|████▎     | 27/63 [00:12<00:16,  2.21it/s]\n",
      "Epoch 1/1:  44%|████▍     | 28/63 [00:12<00:15,  2.21it/s]\n",
      "Epoch 1/1:  46%|████▌     | 29/63 [00:13<00:15,  2.21it/s]\n",
      "Epoch 1/1:  48%|████▊     | 30/63 [00:13<00:14,  2.22it/s]\n",
      "Epoch 1/1:  49%|████▉     | 31/63 [00:14<00:14,  2.22it/s]\n",
      "Epoch 1/1:  51%|█████     | 32/63 [00:14<00:13,  2.21it/s]\n",
      "Epoch 1/1:  52%|█████▏    | 33/63 [00:15<00:13,  2.23it/s]\n",
      "Epoch 1/1:  54%|█████▍    | 34/63 [00:15<00:13,  2.22it/s]\n",
      "Epoch 1/1:  56%|█████▌    | 35/63 [00:15<00:12,  2.22it/s]\n",
      "Epoch 1/1:  57%|█████▋    | 36/63 [00:16<00:12,  2.23it/s]\n",
      "Epoch 1/1:  59%|█████▊    | 37/63 [00:16<00:11,  2.22it/s]\n",
      "Epoch 1/1:  60%|██████    | 38/63 [00:17<00:11,  2.22it/s]\n",
      "Epoch 1/1:  62%|██████▏   | 39/63 [00:17<00:10,  2.22it/s]\n",
      "Epoch 1/1:  63%|██████▎   | 40/63 [00:18<00:10,  2.22it/s]\n",
      "Epoch 1/1:  65%|██████▌   | 41/63 [00:18<00:09,  2.22it/s]\n",
      "Epoch 1/1:  67%|██████▋   | 42/63 [00:19<00:09,  2.22it/s]\n",
      "Epoch 1/1:  68%|██████▊   | 43/63 [00:19<00:08,  2.23it/s]\n",
      "Epoch 1/1:  70%|██████▉   | 44/63 [00:20<00:08,  2.22it/s]\n",
      "Epoch 1/1:  71%|███████▏  | 45/63 [00:20<00:08,  2.22it/s]\n",
      "Epoch 1/1:  73%|███████▎  | 46/63 [00:20<00:07,  2.23it/s]\n",
      "Epoch 1/1:  75%|███████▍  | 47/63 [00:21<00:07,  2.22it/s]\n",
      "Epoch 1/1:  76%|███████▌  | 48/63 [00:21<00:06,  2.22it/s]\n",
      "Epoch 1/1:  78%|███████▊  | 49/63 [00:22<00:06,  2.23it/s]\n",
      "Epoch 1/1:  79%|███████▉  | 50/63 [00:22<00:05,  2.23it/s]\n",
      "Epoch 1/1:  81%|████████  | 51/63 [00:23<00:05,  2.23it/s]\n",
      "Epoch 1/1:  83%|████████▎ | 52/63 [00:23<00:04,  2.23it/s]\n",
      "Epoch 1/1:  84%|████████▍ | 53/63 [00:24<00:04,  2.23it/s]\n",
      "Epoch 1/1:  86%|████████▌ | 54/63 [00:24<00:04,  2.22it/s]\n",
      "Epoch 1/1:  87%|████████▋ | 55/63 [00:24<00:03,  2.22it/s]\n",
      "Epoch 1/1:  89%|████████▉ | 56/63 [00:25<00:03,  2.21it/s]\n",
      "Epoch 1/1:  90%|█████████ | 57/63 [00:25<00:02,  2.23it/s]\n",
      "Epoch 1/1:  92%|█████████▏| 58/63 [00:26<00:02,  2.24it/s]\n",
      "Epoch 1/1:  94%|█████████▎| 59/63 [00:26<00:01,  2.23it/s]\n",
      "Epoch 1/1:  95%|█████████▌| 60/63 [00:27<00:01,  2.23it/s]\n",
      "Epoch 1/1:  97%|█████████▋| 61/63 [00:27<00:00,  2.21it/s]\n",
      "Epoch 1/1:  98%|█████████▊| 62/63 [00:28<00:00,  2.22it/s]\n"
     ]
    },
    {
     "name": "stdout",
     "output_type": "stream",
     "text": [
      "\u001b[36m(train_model pid=54408)\u001b[0m Epoch 1/1, Training Loss: 1.1628\n"
     ]
    },
    {
     "name": "stderr",
     "output_type": "stream",
     "text": [
      "Epoch 1/1: 100%|██████████| 63/63 [00:28<00:00,  2.21it/s]\n",
      "2025-04-16 01:21:58,784\tINFO tensorboardx.py:308 -- Removed the following hyperparameter values when logging to tensorboard: {'optimiser': ('__ref_ph', '5f8989a2'), 'criterion': ('__ref_ph', 'f6251774')}\n",
      "2025-04-16 01:21:58,799\tINFO tune.py:1009 -- Wrote the latest version of all result files and experiment state to '/Users/huiningonn/ray_results/basedinov2' in 0.0093s.\n",
      "2025-04-16 01:21:58,803\tINFO tune.py:1041 -- Total run time: 34.02 seconds (33.98 seconds for the tuning loop).\n"
     ]
    },
    {
     "name": "stdout",
     "output_type": "stream",
     "text": [
      "Best config: {'lr': 0.0005611516415334506, 'weight_decay': 0.0007969454818643932, 'dropout': 0.446398788362281, 'hidden_sizes': [256, 128], 'activation': 'tanh', 'freeze_backbone': True, 'num_epochs': 1, 'optimiser': <function <lambda> at 0x324ace680>, 'criterion': <function <lambda> at 0x324ace830>}\n"
     ]
    },
    {
     "name": "stderr",
     "output_type": "stream",
     "text": [
      "\u001b[36m(train_model pid=54408)\u001b[0m /Users/huiningonn/anaconda3/envs/dogemotion/lib/python3.10/multiprocessing/resource_tracker.py:224: UserWarning: resource_tracker: There appear to be 1 leaked semaphore objects to clean up at shutdown\n",
      "\u001b[36m(train_model pid=54408)\u001b[0m   warnings.warn('resource_tracker: There appear to be %d '\n"
     ]
    }
   ],
   "source": [
    "asha_scheduler = ASHAScheduler(\n",
    "    time_attr='training_iteration',\n",
    "    metric='loss',\n",
    "    mode='min',\n",
    "    max_t=100,           # max training iterations per trial\n",
    "    grace_period=10,     # min iterations before stopping\n",
    "    reduction_factor=3,\n",
    "    brackets=1,\n",
    ")\n",
    "\n",
    "optuna_search = OptunaSearch(metric=\"loss\", mode=\"min\", seed=42)\n",
    "\n",
    "# define search space in a config dictionary, i.e what are the values you want to try, this is just example of format\n",
    "'''\n",
    "config = {\n",
    "    \"lr\": tune.loguniform(1e-5, 1e-2),\n",
    "    \"weight_decay\": tune.loguniform(1e-6, 1e-2),\n",
    "    \"dropout\": tune.uniform(0.1, 0.5),\n",
    "    \"hidden_sizes\": tune.choice([[256, 128], [512, 256], None]),\n",
    "    \"activation\": tune.choice([\"relu\", \"tanh\"]),\n",
    "    \"freeze_backbone\": tune.choice([True, False]),\n",
    "    \"num_epochs\": 2, \n",
    "    \"optimiser\": tune.choice([optim.Adam, optim.SGD]),\n",
    "    \"criterion\": tune.choice([nn.CrossEntropyLoss, nn.NLLLoss]),\n",
    "}\n",
    "'''\n",
    "\n",
    "# this is what i specified for the example because i am running on cpu\n",
    "# config = {\n",
    "#     \"lr\": tune.loguniform(1e-5, 1e-2),\n",
    "#     \"weight_decay\": tune.loguniform(1e-6, 1e-2),\n",
    "#     \"dropout\": tune.uniform(0.1, 0.5),\n",
    "#     \"freeze_backbone\": tune.choice([True]),\n",
    "#     \"num_epochs\": 2,\n",
    "# }\n",
    "\n",
    "# for dinov2 gpu\n",
    "config = {\n",
    "    \"lr\": tune.loguniform(1e-4, 1e-2),    \n",
    "    \"weight_decay\": tune.loguniform(1e-5, 1e-3),\n",
    "    \"dropout\": tune.uniform(0.3, 0.5),\n",
    "    \"hidden_sizes\": tune.choice([[256, 128], [512, 256], None]),\n",
    "    \"activation\": tune.choice([\"relu\", \"tanh\", \"sigmoid\", \"leakyrelu\", \"gelu\"]),\n",
    "    \"freeze_backbone\": True,\n",
    "    \"num_epochs\": 10,\n",
    "    \"optimiser\": tune.choice([\n",
    "        lambda params, lr, wd: optim.Adam(params, lr=lr, weight_decay=wd),\n",
    "        lambda params, lr, wd: optim.SGD(params, lr=lr, momentum=0.9, weight_decay=wd)\n",
    "    ]),\n",
    "    \"criterion\": tune.choice([\n",
    "        lambda: nn.CrossEntropyLoss(),\n",
    "        lambda: nn.NLLLoss()\n",
    "    ])\n",
    "}\n",
    "\n",
    "def trial_dirname_creator(trial):\n",
    "    # this is meant to create short and unique directory name for each trial bc else too long for windows\n",
    "    # include a unique identifier (like trial.trial_id).\n",
    "    return f\"trial_{trial.trial_id}\"\n",
    "\n",
    "def trial_name_creator(trial):\n",
    "    return f\"t_{trial.trial_id}\"\n",
    "\n",
    "# tuner object\n",
    "tuner = tune.Tuner(\n",
    "    tune.with_resources(train_model, {\"cpu\": 2, \"gpu\": 0}), # specify based on the device u using because by default it uses all, i.e if u have 4 cpus; it does 4 concurrent trials\n",
    "    tune_config=tune.TuneConfig(\n",
    "        scheduler=asha_scheduler,\n",
    "        search_alg=optuna_search,\n",
    "        num_samples=15,  # number of trials to run\n",
    "        trial_dirname_creator=trial_dirname_creator,\n",
    "        trial_name_creator=trial_name_creator, \n",
    "    ),\n",
    "    run_config=tune.RunConfig(\n",
    "        name=\"basedinov2\",\n",
    "        storage_path=\"C:/ray_results/baseefficientnetb5\", #not required for mac\n",
    "        log_to_file=True,\n",
    "        verbose=1,\n",
    "        ),\n",
    "    param_space=config,\n",
    ")\n",
    "\n",
    "results = tuner.fit()\n",
    "print(\"Best config:\", results.get_best_result(metric=\"loss\", mode=\"min\", filter_nan_and_inf=False).config)"
   ]
  },
  {
   "cell_type": "code",
   "execution_count": 12,
   "metadata": {},
   "outputs": [
    {
     "name": "stdout",
     "output_type": "stream",
     "text": [
      "\u001b[36m(train_model pid=54408)\u001b[0m Validation Loss: 0.8923\n"
     ]
    },
    {
     "name": "stdout",
     "output_type": "stream",
     "text": [
      "Full best config: {'lr': 0.0005611516415334506, 'weight_decay': 0.0007969454818643932, 'dropout': 0.446398788362281, 'hidden_sizes': [256, 128], 'activation': 'tanh', 'freeze_backbone': True, 'num_epochs': 1, 'optimiser': <function <lambda> at 0x324ace680>, 'criterion': <function <lambda> at 0x324ace830>}\n"
     ]
    }
   ],
   "source": [
    "best_config = results.get_best_result(metric=\"loss\", mode=\"min\").config\n",
    "print(\"Full best config:\", best_config)"
   ]
  },
  {
   "cell_type": "code",
   "execution_count": 13,
   "metadata": {},
   "outputs": [
    {
     "name": "stderr",
     "output_type": "stream",
     "text": [
      "Using cache found in /Users/huiningonn/.cache/torch/hub/facebookresearch_dinov2_main\n"
     ]
    }
   ],
   "source": [
    "final_model = BaseDINOv2(\n",
    "    num_classes=4,\n",
    "    dropout=best_config[\"dropout\"],\n",
    "    freeze_backbone=best_config[\"freeze_backbone\"],\n",
    "    hidden_sizes=best_config[\"hidden_sizes\"],\n",
    "    activation=best_config[\"activation\"]\n",
    ")"
   ]
  },
  {
   "cell_type": "code",
   "execution_count": 14,
   "metadata": {},
   "outputs": [],
   "source": [
    "final_model = final_model.to(device)\n",
    "logging.info(\"Model instantiated on device: %s\", device)"
   ]
  },
  {
   "cell_type": "code",
   "execution_count": 15,
   "metadata": {},
   "outputs": [],
   "source": [
    "optimiser = best_config[\"optimiser\"](final_model.parameters(), lr=best_config[\"lr\"], wd=best_config[\"weight_decay\"])\n",
    "criterion = best_config[\"criterion\"]()"
   ]
  },
  {
   "cell_type": "code",
   "execution_count": 17,
   "metadata": {},
   "outputs": [
    {
     "data": {
      "application/vnd.jupyter.widget-view+json": {
       "model_id": "dcc50f9e2d5346af819848ede8085905",
       "version_major": 2,
       "version_minor": 0
      },
      "text/plain": [
       "Epoch 1/1:   0%|          | 0/126 [00:00<?, ?it/s]"
      ]
     },
     "metadata": {},
     "output_type": "display_data"
    },
    {
     "name": "stdout",
     "output_type": "stream",
     "text": [
      "Epoch 1/1 - Train Loss: 1.0588, Val Loss: 0.6893\n"
     ]
    }
   ],
   "source": [
    "# early stopping parameters\n",
    "patience = 5  # the number of epochs to wait to see if got improvements\n",
    "best_val_loss = float('inf')\n",
    "epochs_without_improvement = 0\n",
    "\n",
    "num_epochs_full = 50\n",
    "\n",
    "train_losses = []\n",
    "val_losses = []\n",
    "\n",
    "# training loop with early stopping\n",
    "for epoch in range(num_epochs_full):\n",
    "    final_model.train()\n",
    "    running_loss = 0.0\n",
    "    for inputs, targets in tqdm(FULL_TRAIN_LOADER, desc=f\"Epoch {epoch+1}/{num_epochs_full}\"):\n",
    "        inputs, targets = inputs.to(device), targets.to(device)\n",
    "        optimiser.zero_grad()\n",
    "        outputs = final_model(inputs)\n",
    "        loss = criterion(outputs, targets)\n",
    "        loss.backward()\n",
    "        optimiser.step()\n",
    "        running_loss += loss.item() * inputs.size(0)\n",
    "    epoch_train_loss = running_loss / len(FULL_TRAIN_LOADER.dataset)\n",
    "    train_losses.append(epoch_train_loss)\n",
    "    logging.info(\"Epoch %d: Training Loss: %.4f\", epoch+1, epoch_train_loss)\n",
    "    \n",
    "    # evaluate on the validation set\n",
    "    final_model.eval()\n",
    "    running_val_loss = 0.0\n",
    "    with torch.no_grad():\n",
    "        for inputs, targets in FULL_VAL_LOADER:\n",
    "            inputs, targets = inputs.to(device), targets.to(device)\n",
    "            outputs = final_model(inputs)\n",
    "            loss = criterion(outputs, targets)\n",
    "            running_val_loss += loss.item() * inputs.size(0)\n",
    "    epoch_val_loss = running_val_loss / len(FULL_VAL_LOADER.dataset)\n",
    "    val_losses.append(epoch_val_loss)\n",
    "    logging.info(\"Epoch %d: Validation Loss: %.4f\", epoch+1, epoch_val_loss)\n",
    "    print(f\"Epoch {epoch+1}/{num_epochs_full} - Train Loss: {epoch_train_loss:.4f}, Val Loss: {epoch_val_loss:.4f}\")\n",
    "    \n",
    "    # if no improvement then early stopping\n",
    "    if epoch_val_loss < best_val_loss:\n",
    "        best_val_loss = epoch_val_loss\n",
    "        epochs_without_improvement = 0\n",
    "        # save the best model\n",
    "        best_model_path = os.path.join(MODEL_SAVE_DIR, \"dinov2_best_model.pt\")\n",
    "        torch.save(final_model.state_dict(), best_model_path)\n",
    "        logging.info(\"Model saved to: %s\",  {best_model_path})\n",
    "        logging.info(\"Epoch %d: New best model saved.\", epoch+1)\n",
    "    else:\n",
    "        epochs_without_improvement += 1\n",
    "\n",
    "    if epochs_without_improvement >= patience:\n",
    "        print(\"Early stopping triggered.\")\n",
    "        logging.info(\"Early stopping triggered at epoch %d\", epoch+1)\n",
    "        break"
   ]
  },
  {
   "cell_type": "code",
   "execution_count": 18,
   "metadata": {},
   "outputs": [
    {
     "name": "stdout",
     "output_type": "stream",
     "text": [
      "572\n",
      "Test Loss: 0.6916, Test Accuracy: 72.73%\n"
     ]
    }
   ],
   "source": [
    "# load best model from training\n",
    "final_model.load_state_dict(torch.load(best_model_path))\n",
    "final_model.eval()\n",
    "\n",
    "print(len(FULL_TEST_LOADER.dataset))\n",
    "\n",
    "# Evaluate on the test set\n",
    "correct = 0\n",
    "total = 0\n",
    "test_loss = 0.0\n",
    "with torch.no_grad():\n",
    "    for inputs, targets in FULL_TEST_LOADER:\n",
    "        inputs, targets = inputs.to(device), targets.to(device)\n",
    "        outputs = final_model(inputs)\n",
    "        loss = criterion(outputs, targets)\n",
    "        test_loss += loss.item() * inputs.size(0)\n",
    "        _, predicted = torch.max(outputs, 1)\n",
    "        total += targets.size(0)\n",
    "        correct += (predicted == targets).sum().item()\n",
    "test_loss = test_loss / len(FULL_TEST_LOADER.dataset)\n",
    "test_accuracy = correct / total\n",
    "print(f\"Test Loss: {test_loss:.4f}, Test Accuracy: {test_accuracy * 100:.2f}%\")\n",
    "logging.info(\"Test Loss: %.4f, Test Accuracy: %.2f%%\", test_loss, test_accuracy * 100)"
   ]
  },
  {
   "cell_type": "code",
   "execution_count": 20,
   "metadata": {},
   "outputs": [
    {
     "data": {
      "image/png": "[encoded data removed]",
      "text/plain": [
       "<Figure size 1000x600 with 1 Axes>"
      ]
     },
     "metadata": {},
     "output_type": "display_data"
    }
   ],
   "source": [
    "# plotting training and validation loss curves\n",
    "plt.figure(figsize=(10, 6))\n",
    "plt.plot(range(1, len(train_losses)+1), train_losses, label=\"Training Loss\")\n",
    "plt.plot(range(1, len(val_losses)+1), val_losses, label=\"Validation Loss\")\n",
    "plt.xlabel(\"Epoch\")\n",
    "plt.ylabel(\"Loss\")\n",
    "plt.title(\"Training and Validation Loss Curves\")\n",
    "plt.legend()\n",
    "plt.grid(True)\n",
    "loss_curve_path = os.path.join(\"..\", \"results\", \"dinov2\", \"loss_curves.png\")\n",
    "plt.savefig(loss_curve_path)\n",
    "plt.show()"
   ]
  },
  {
   "cell_type": "code",
   "execution_count": 21,
   "metadata": {},
   "outputs": [
    {
     "name": "stdout",
     "output_type": "stream",
     "text": [
      "Test Loss: 0.6996, Test Accuracy: 72.03%\n",
      "\n",
      "Classification Report:\n",
      "               precision    recall  f1-score   support\n",
      "\n",
      "       angry       0.75      0.64      0.69       140\n",
      "       happy       0.70      0.79      0.74       148\n",
      "     relaxed       0.70      0.58      0.64       146\n",
      "         sad       0.74      0.87      0.80       138\n",
      "\n",
      "    accuracy                           0.72       572\n",
      "   macro avg       0.72      0.72      0.72       572\n",
      "weighted avg       0.72      0.72      0.72       572\n",
      "\n"
     ]
    }
   ],
   "source": [
    "all_preds = []\n",
    "all_targets = []\n",
    "test_loss = 0.0\n",
    "\n",
    "final_model.eval()\n",
    "with torch.no_grad():\n",
    "    for inputs, targets in FULL_TEST_LOADER:\n",
    "        inputs, targets = inputs.to(device), targets.to(device)\n",
    "        outputs = final_model(inputs)\n",
    "        loss = criterion(outputs, targets)\n",
    "        test_loss += loss.item() * inputs.size(0)\n",
    "        _, predicted = torch.max(outputs, 1)\n",
    "        all_preds.extend(predicted.cpu().numpy())\n",
    "        all_targets.extend(targets.cpu().numpy())\n",
    "\n",
    "test_loss /= len(FULL_TEST_LOADER.dataset)\n",
    "test_accuracy = np.mean(np.array(all_preds) == np.array(all_targets))\n",
    "\n",
    "print(f\"Test Loss: {test_loss:.4f}, Test Accuracy: {test_accuracy * 100:.2f}%\")\n",
    "logging.info(\"Test Loss: %.4f, Test Accuracy: %.2f%%\", test_loss, test_accuracy * 100)\n",
    "\n",
    "# plot classification report\n",
    "class_names = FULL_TEST_LOADER.dataset.classes\n",
    "report = classification_report(all_targets, all_preds, target_names=class_names)\n",
    "print(\"\\nClassification Report:\\n\", report)\n",
    "logging.info(\"Classification Report:\\n%s\", report)\n",
    "\n",
    "# plot confusion matrix\n",
    "cm = confusion_matrix(all_targets, all_preds)\n",
    "\n",
    "# save confusion matrix as image\n",
    "fig, ax = plt.subplots(figsize=(8, 6))\n",
    "sns.heatmap(cm, annot=True, fmt='d', cmap='Blues', xticklabels=class_names, yticklabels=class_names, ax=ax)\n",
    "plt.xlabel(\"Predicted\")\n",
    "plt.ylabel(\"True\")\n",
    "plt.title(\"Confusion Matrix\")\n",
    "plt.tight_layout()\n",
    "\n",
    "conf_matrix_path = os.path.join(\"..\", \"results\", \"dinov2\", \"confusion_matrix.png\")\n",
    "fig.savefig(conf_matrix_path)\n",
    "plt.close(fig)\n",
    "\n",
    "logging.info(\"Confusion matrix saved to: %s\", conf_matrix_path)"
   ]
  }
 ],
 "metadata": {
  "kernelspec": {
   "display_name": "dog_emotions",
   "language": "python",
   "name": "python3"
  },
  "language_info": {
   "codemirror_mode": {
    "name": "ipython",
    "version": 3
   },
   "file_extension": ".py",
   "mimetype": "text/x-python",
   "name": "python",
   "nbconvert_exporter": "python",
   "pygments_lexer": "ipython3",
   "version": "3.10.16"
  }
 },
 "nbformat": 4,
 "nbformat_minor": 2
}
