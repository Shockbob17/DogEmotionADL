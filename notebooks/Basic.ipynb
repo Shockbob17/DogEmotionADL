{
 "cells": [
  {
   "cell_type": "markdown",
   "metadata": {},
   "source": [
    "### Creating DataLoader\n",
    "This assumes that we have the actual folder with the eval train and test separation\n",
    "\n",
    "We will only load the data from train in this notebook"
   ]
  },
  {
   "cell_type": "code",
   "execution_count": 9,
   "metadata": {},
   "outputs": [],
   "source": [
    "# import kagglehub\n",
    "from torchvision import datasets, transforms\n",
    "from torch.utils.data import DataLoader, Subset\n",
    "import random\n",
    "import torch.nn as nn\n",
    "from torchvision.models import efficientnet_b5, EfficientNet_B5_Weights\n",
    "from torchvision.models._api import WeightsEnum\n",
    "from torch.hub import load_state_dict_from_url\n",
    "import torch.optim as optim\n",
    "import torch"
   ]
  },
  {
   "cell_type": "code",
   "execution_count": 12,
   "metadata": {},
   "outputs": [
    {
     "name": "stdout",
     "output_type": "stream",
     "text": [
      "Reduced Train: 3262\n"
     ]
    }
   ],
   "source": [
    "path=\"../input/actual/train\"\n",
    "\n",
    "transform = transforms.Compose([\n",
    "    transforms.Resize((224,224)),\n",
    "    transforms.ToTensor(),\n",
    "])\n",
    "\n",
    "allDataSet = datasets.ImageFolder(root=path, transform=transform)\n",
    "totalSize = len(allDataSet)\n",
    "reductionRatio = 0.5\n",
    "reducedSize = int(totalSize * reductionRatio)\n",
    "indices = list(range(totalSize))\n",
    "random.shuffle(indices)\n",
    "reduced_indices = indices[:reducedSize]\n",
    "reducedDataset = Subset(allDataSet, reduced_indices)\n",
    "\n",
    "print(f\"Reduced Train: {len(reducedDataset)}\")\n",
    "dataloader = DataLoader(reducedDataset, batch_size=32, shuffle=True)\n"
   ]
  },
  {
   "cell_type": "code",
   "execution_count": null,
   "metadata": {},
   "outputs": [
    {
     "name": "stdout",
     "output_type": "stream",
     "text": [
      "5\n"
     ]
    }
   ],
   "source": [
    "# Number of classes in your dataset\n",
    "num_classes = len(reducedDataset.dataset.classes) \n",
    "print(num_classes)"
   ]
  },
  {
   "cell_type": "markdown",
   "metadata": {},
   "source": [
    "Basic retraining of models"
   ]
  },
  {
   "cell_type": "code",
   "execution_count": 17,
   "metadata": {},
   "outputs": [
    {
     "name": "stdout",
     "output_type": "stream",
     "text": [
      "Number of classes: 5\n",
      "Epoch [1/10] Loss: 1.4494 Accuracy: 0.3967\n",
      "Epoch [2/10] Loss: 1.2482 Accuracy: 0.5129\n",
      "Epoch [3/10] Loss: 1.1708 Accuracy: 0.5414\n",
      "Epoch [4/10] Loss: 1.1320 Accuracy: 0.5552\n",
      "Epoch [5/10] Loss: 1.0926 Accuracy: 0.5671\n",
      "Epoch [6/10] Loss: 1.0951 Accuracy: 0.5708\n",
      "Epoch [7/10] Loss: 1.0813 Accuracy: 0.5723\n",
      "Epoch [8/10] Loss: 1.0491 Accuracy: 0.5861\n",
      "Epoch [9/10] Loss: 1.0620 Accuracy: 0.5855\n",
      "Epoch [10/10] Loss: 1.0422 Accuracy: 0.5886\n"
     ]
    }
   ],
   "source": [
    "def get_state_dict(self, *args, **kwargs):\n",
    "    kwargs.pop(\"check_hash\")\n",
    "    return load_state_dict_from_url(self.url, *args, **kwargs)\n",
    "WeightsEnum.get_state_dict = get_state_dict\n",
    "\n",
    "efficientnet_b5(weights=EfficientNet_B5_Weights.IMAGENET1K_V1)\n",
    "model = efficientnet_b5(weights=\"DEFAULT\")\n",
    "\n",
    "num_classes = len(reducedDataset.dataset.classes)\n",
    "print(\"Number of classes:\", num_classes)\n",
    "\n",
    "for param in model.parameters():\n",
    "    param.requires_grad = False\n",
    "\n",
    "model.classifier = nn.Sequential(\n",
    "    nn.Dropout(p=0.4),\n",
    "    nn.Linear(model.classifier[1].in_features, num_classes)\n",
    ")\n",
    "\n",
    "optimizer = optim.Adam(model.classifier.parameters(), lr=0.001)\n",
    "criterion = nn.CrossEntropyLoss()\n",
    "\n",
    "device = torch.device(\"cuda\" if torch.cuda.is_available() else \"cpu\")\n",
    "model.to(device)\n",
    "model.train()\n",
    "\n",
    "epochs = 10\n",
    "for epoch in range(epochs):\n",
    "    running_loss = 0.0\n",
    "    correct = 0\n",
    "    total = 0\n",
    "\n",
    "    for images, labels in dataloader:\n",
    "        images, labels = images.to(device), labels.to(device)\n",
    "\n",
    "        optimizer.zero_grad()\n",
    "        outputs = model(images)\n",
    "        loss = criterion(outputs, labels)\n",
    "        loss.backward()\n",
    "        optimizer.step()\n",
    "\n",
    "        running_loss += loss.item() * images.size(0)\n",
    "        _, predicted = torch.max(outputs, 1)\n",
    "        correct += (predicted == labels).sum().item()\n",
    "        total += labels.size(0)\n",
    "\n",
    "    acc = correct / total\n",
    "    print(f\"Epoch [{epoch+1}/{epochs}] Loss: {running_loss/total:.4f} Accuracy: {acc:.4f}\")"
   ]
  },
  {
   "cell_type": "code",
   "execution_count": 18,
   "metadata": {},
   "outputs": [],
   "source": [
    "torch.save(model.state_dict(), \"../models/efficientnet_b5_finetuned.pth\")\n"
   ]
  },
  {
   "cell_type": "code",
   "execution_count": null,
   "metadata": {},
   "outputs": [],
   "source": []
  }
 ],
 "metadata": {
  "kernelspec": {
   "display_name": "ADLTEAM",
   "language": "python",
   "name": "python3"
  },
  "language_info": {
   "codemirror_mode": {
    "name": "ipython",
    "version": 3
   },
   "file_extension": ".py",
   "mimetype": "text/x-python",
   "name": "python",
   "nbconvert_exporter": "python",
   "pygments_lexer": "ipython3",
   "version": "3.10.16"
  }
 },
 "nbformat": 4,
 "nbformat_minor": 2
}
